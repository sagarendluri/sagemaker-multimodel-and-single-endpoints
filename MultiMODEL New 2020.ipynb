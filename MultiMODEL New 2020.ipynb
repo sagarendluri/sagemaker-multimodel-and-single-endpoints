{
 "cells": [
  {
   "cell_type": "code",
   "execution_count": 8,
   "metadata": {},
   "outputs": [],
   "source": [
    "import sagemaker\n",
    "from sagemaker import get_execution_role\n",
    "import boto3\n",
    "import time\n",
    "import numpy as np\n",
    "import pandas as pd\n",
    "s3 = boto3.resource('s3')\n",
    "\n",
    "sagemaker_session = sagemaker.Session()\n",
    "role = get_execution_role()\n",
    "\n",
    "BUCKET      = sagemaker_session.default_bucket()\n",
    "TRAINING_FILE     = 'train_prediction.py'\n",
    "INFERENCE_FILE = 'inference.py'\n",
    "SOURCE_DIR = 'source_dir'\n",
    "\n",
    "DATA_PREFIX            = 'RF_SCIKIT'\n",
    "MULTI_MODEL_ARTIFACTS  = 'multi_model_artifacts'\n",
    "\n",
    "TRAIN_INSTANCE_TYPE    = 'ml.m4.xlarge'\n",
    "ENDPOINT_INSTANCE_TYPE = 'ml.m4.xlarge'\n",
    "\n",
    "ENDPOINT_NAME = 'model-random-forest-new'\n",
    "\n",
    "MODEL_NAME = ENDPOINT_NAME"
   ]
  },
  {
   "cell_type": "code",
   "execution_count": 9,
   "metadata": {},
   "outputs": [],
   "source": [
    "from sklearn.model_selection import train_test_split\n",
    "\n",
    "SEED = 7\n",
    "SPLIT_RATIOS = [0.6, 0.3, 0.1]\n",
    "import boto3\n",
    "def split():\n",
    "    bucket_name = 'sagemaker-data-icr'\n",
    "    s3 = boto3.resource('s3')\n",
    "    data_key = 'first phenomes and genomes.csv'\n",
    "    data_location = 's3://{}/{}'.format(bucket_name, data_key)\n",
    "    df = pd.read_csv(data_location)\n",
    "    #data = df.drop(['Unnamed: 0'],axis=1)\n",
    "    model_data = df.fillna(df.mean())\n",
    "    COLUMNS = list(df.columns)\n",
    "    \n",
    "#     #i = str(input(\"enter a feature name \"))\n",
    "#     X =df1.drop([loc], axis = 1)\n",
    "   \n",
    "#     y =df1[loc]\n",
    "#     X_train, X_test, y_train, y_test = train_test_split(X, y, test_size=0.2, random_state=123)\n",
    "#     #X_train_col = X_train.columns\n",
    "#     return X_train, X_test, y_train, y_test\n",
    "    \n",
    "    i = str(input(\"enter a feature name \"))\n",
    "    #for i in col:\n",
    "   \n",
    "    # split data into train and test sets\n",
    "    seed      = SEED\n",
    "    val_size  = SPLIT_RATIOS[1]\n",
    "    test_size = SPLIT_RATIOS[2]\n",
    "    \n",
    "    _train, _val, _test = np.split(model_data.sample(frac=1, random_state=123), \n",
    "                                                  [int(0.7 * len(model_data)), int(0.9*len(model_data))]) \n",
    "    #train =  train_data.drop([i], axis=1)#, index=False)\n",
    "    #val =   validation_data.drop([i], axis=1)#, index=False)\n",
    "    #test =  test_data.drop([i], axis=1)#, index=False)\n",
    "\n",
    "# Dropping the target value, as we will use this CSV file for batch transform\n",
    "    #test = test_data.drop([i], axis=1).to_csv('test.csv', index=False, header=False)\n",
    "\n",
    "    return _train, _val, _test ,COLUMNS\n"
   ]
  },
  {
   "cell_type": "code",
   "execution_count": 10,
   "metadata": {},
   "outputs": [],
   "source": [
    "import os\n",
    "def save_data_locally(location, train, val, test,COLUMNS):\n",
    "\n",
    "#     header = ','.join(COLUMNS)\n",
    "#     print(header)\n",
    "#     print(train)\n",
    "    os.makedirs(f'data/{location}/train')\n",
    "    np.savetxt(f'data/{location}/train/{location}_train.csv', train, header=','.join(COLUMNS), delimiter=',', fmt='%.10f',comments=\"\")\n",
    "    \n",
    "    os.makedirs(f'data/{location}/val')\n",
    "    np.savetxt(f'data/{location}/val/{location}_val.csv',     val,  header = ','.join(COLUMNS), delimiter=',', fmt='%.10f',comments=\"\")\n",
    "    \n",
    "    os.makedirs(f'data/{location}/test')\n",
    "    np.savetxt(f'data/{location}/test/{location}_test.csv',   test,  header = ','.join(COLUMNS),  delimiter=',', fmt='%.10f',comments=\"\")\n"
   ]
  },
  {
   "cell_type": "code",
   "execution_count": 18,
   "metadata": {
    "scrolled": true
   },
   "outputs": [
    {
     "name": "stdout",
     "output_type": "stream",
     "text": [
      "enter a feature name 100SDW_EIAR_2009_RF\n"
     ]
    },
    {
     "name": "stderr",
     "output_type": "stream",
     "text": [
      "'s3_input' class will be renamed to 'TrainingInput' in SageMaker Python SDK v2.\n",
      "'s3_input' class will be renamed to 'TrainingInput' in SageMaker Python SDK v2.\n"
     ]
    },
    {
     "name": "stdout",
     "output_type": "stream",
     "text": [
      "Training data uploaded: s3://sagemaker-ap-south-1-580246529711/RF_SCIKIT/model_prep/100SDW_EIAR_2009_RF\n",
      "1 training jobs launched: [<sagemaker.sklearn.estimator.SKLearn object at 0x7f010ccfae80>]\n",
      "enter a feature name 100SDW_EU_2008_RF\n"
     ]
    },
    {
     "name": "stderr",
     "output_type": "stream",
     "text": [
      "'s3_input' class will be renamed to 'TrainingInput' in SageMaker Python SDK v2.\n",
      "'s3_input' class will be renamed to 'TrainingInput' in SageMaker Python SDK v2.\n"
     ]
    },
    {
     "name": "stdout",
     "output_type": "stream",
     "text": [
      "Training data uploaded: s3://sagemaker-ap-south-1-580246529711/RF_SCIKIT/model_prep/100SDW_EIAR_2008_RF\n",
      "2 training jobs launched: [<sagemaker.sklearn.estimator.SKLearn object at 0x7f010ccfae80>, <sagemaker.sklearn.estimator.SKLearn object at 0x7f010cbf9f98>]\n"
     ]
    }
   ],
   "source": [
    "from sagemaker.sklearn.estimator import SKLearn\n",
    "\n",
    "def launch_training_job(location):\n",
    "    # clear out old versions of the data\n",
    "    s3_bucket = s3.Bucket(BUCKET)\n",
    "    full_input_prefix = f'{DATA_PREFIX}/model_prep/{location}'\n",
    "    s3_bucket.objects.filter(Prefix=full_input_prefix + '/').delete()\n",
    "\n",
    "    # upload the entire set of data for all three channels\n",
    "    local_folder = f'data/{location}'\n",
    "    inputs = sagemaker_session.upload_data(path=local_folder, \n",
    "                                            key_prefix=full_input_prefix)\n",
    "    \n",
    "    print(f'Training data uploaded: {inputs}')\n",
    "    \n",
    "    _job = 'gp-{}'.format(location.replace('_', '-'))\n",
    "    full_output_prefix = f'{DATA_PREFIX}/model_artifacts/{location}'\n",
    "    s3_output_path = f's3://{BUCKET}/{full_output_prefix}'\n",
    "    \n",
    "    code_location = f's3://{BUCKET}/{full_input_prefix}/code'\n",
    "    # Return the estimator object\n",
    "    return s3_output_path,_job, code_location ,inputs,location \n",
    "\n",
    "from sagemaker.sklearn.estimator import SKLearn\n",
    "\n",
    "LOCATIONS  = ['100SDW_EIAR_2009_RF','100SDW_EIAR_2008_RF','100SDW_EU_2008_RF','100SDW_EU_2009_RF']\n",
    "PARALLEL_TRAINING_JOBS =2\n",
    "\n",
    "import shutil\n",
    "import os\n",
    "\n",
    "estimators = []\n",
    "\n",
    "shutil.rmtree('data', ignore_errors=True)\n",
    "for loc in LOCATIONS[:PARALLEL_TRAINING_JOBS]:\n",
    "    _train, _val, _test ,COLUMNS = split()\n",
    "    save_data_locally(loc, _train, _val, _test ,COLUMNS)\n",
    "    \n",
    "    s3_output_path,_job, code_location,inputs,location = launch_training_job(loc)\n",
    "    _estimator = SKLearn(\n",
    "        entry_point=TRAINING_FILE, # script to use for training job\n",
    "        role=role,\n",
    "        source_dir=SOURCE_DIR, # Location of scripts\n",
    "        train_instance_count=1,\n",
    "        train_instance_type=TRAIN_INSTANCE_TYPE,\n",
    "        framework_version='0.23-1',# 0.23-1 is the latest version\n",
    "        output_path=s3_output_path,# Where to store model artifacts\n",
    "        base_job_name=_job,\n",
    "        code_location=code_location,\n",
    "        hyperparameters =  {'model-name': location})\n",
    "    \n",
    "    \n",
    "    DISTRIBUTION_MODE = 'FullyReplicated'\n",
    "    \n",
    "    \n",
    "    train_input = sagemaker.s3_input(s3_data=inputs+'/train', \n",
    "                                      distribution=DISTRIBUTION_MODE, content_type='csv')\n",
    "    \n",
    "    val_input   = sagemaker.s3_input(s3_data=inputs+'/val', \n",
    "                                      distribution=DISTRIBUTION_MODE, content_type='csv')\n",
    "    \n",
    "    remote_inputs = {'train': train_input, 'validation': val_input}\n",
    "  \n",
    "    \n",
    "    #eval_set=[(train_input2, val_input2)]\n",
    "    #eval_set = {'train': train_input2,'test': val_input2}\n",
    "\n",
    "\n",
    "    _estimator.fit(remote_inputs,wait = False)#,eval_set)\n",
    "    estimators.append(_estimator)\n",
    "\n",
    "    \n",
    "    print('{} training jobs launched: {}'.format(len(estimators), estimators))\n",
    "    "
   ]
  },
  {
   "cell_type": "code",
   "execution_count": 19,
   "metadata": {},
   "outputs": [
    {
     "name": "stdout",
     "output_type": "stream",
     "text": [
      "\n",
      "2 training jobs launched: ['gp-100SDW-EIAR-2009-RF-2020-07-22-10-56-19-965', 'gp-100SDW-EIAR-2008-RF-2020-07-22-10-56-28-902']\n"
     ]
    }
   ],
   "source": [
    "#APB_PAT_2001_RF2\n",
    "#[100SDW_EIAR_2009_RF','100SDW_EU_2008_RF']\n",
    "\n",
    "#2014DSPHY-1nd-layer\n",
    "print()\n",
    "print(f'{len(estimators)} training jobs launched: {[x.latest_training_job.name for x in estimators]}')"
   ]
  },
  {
   "cell_type": "code",
   "execution_count": 20,
   "metadata": {},
   "outputs": [
    {
     "name": "stdout",
     "output_type": "stream",
     "text": [
      "Waiting for job: gp-100SDW-EIAR-2009-RF-2020-07-22-10-56-19-965\n",
      "gp-100SDW-EIAR-2009-RF-2020-07-22-10-56-19-965 job status: InProgress\n",
      "gp-100SDW-EIAR-2009-RF-2020-07-22-10-56-19-965 job status: InProgress\n",
      "gp-100SDW-EIAR-2009-RF-2020-07-22-10-56-19-965 job status: InProgress\n",
      "gp-100SDW-EIAR-2009-RF-2020-07-22-10-56-19-965 job status: InProgress\n",
      "gp-100SDW-EIAR-2009-RF-2020-07-22-10-56-19-965 job status: InProgress\n",
      "DONE. Status for gp-100SDW-EIAR-2009-RF-2020-07-22-10-56-19-965 is Completed\n",
      "\n",
      "Waiting for job: gp-100SDW-EIAR-2008-RF-2020-07-22-10-56-28-902\n",
      "DONE. Status for gp-100SDW-EIAR-2008-RF-2020-07-22-10-56-28-902 is Completed\n",
      "\n"
     ]
    }
   ],
   "source": [
    "def wait_for_training_job_to_complete(estimator):\n",
    "    job = estimator.latest_training_job.job_name\n",
    "    print(f'Waiting for job: {job}')\n",
    "    status = estimator.latest_training_job.describe()['TrainingJobStatus']\n",
    "    while status == 'InProgress':\n",
    "        time.sleep(45)\n",
    "        status = estimator.latest_training_job.describe()['TrainingJobStatus']\n",
    "        if status == 'InProgress':\n",
    "            print(f'{job} job status: {status}')\n",
    "    print(f'DONE. Status for {job} is {status}\\n')\n",
    "# wait for the jobs to finish\n",
    "for est in estimators:\n",
    "    wait_for_training_job_to_complete(est)\n"
   ]
  },
  {
   "cell_type": "code",
   "execution_count": 21,
   "metadata": {},
   "outputs": [
    {
     "name": "stderr",
     "output_type": "stream",
     "text": [
      "This is not the latest supported version. If you would like to use version 0.23-1, please add framework_version=0.23-1 to your constructor.\n"
     ]
    },
    {
     "name": "stdout",
     "output_type": "stream",
     "text": [
      "2020-07-22 11:00:47 Starting - Preparing the instances for training\n",
      "2020-07-22 11:00:47 Downloading - Downloading input data\n",
      "2020-07-22 11:00:47 Training - Training image download completed. Training in progress.\n",
      "2020-07-22 11:00:47 Uploading - Uploading generated training model\n",
      "2020-07-22 11:00:47 Completed - Training job completed\u001b[34m2020-07-22 10:59:45,564 sagemaker-training-toolkit INFO     Imported framework sagemaker_sklearn_container.training\u001b[0m\n",
      "\u001b[34m2020-07-22 10:59:45,566 sagemaker-training-toolkit INFO     No GPUs detected (normal if no gpus installed)\u001b[0m\n",
      "\u001b[34m2020-07-22 10:59:45,578 sagemaker_sklearn_container.training INFO     Invoking user training script.\u001b[0m\n",
      "\u001b[34m2020-07-22 10:59:45,968 sagemaker-training-toolkit INFO     No GPUs detected (normal if no gpus installed)\u001b[0m\n",
      "\u001b[34m2020-07-22 10:59:45,981 sagemaker-training-toolkit INFO     No GPUs detected (normal if no gpus installed)\u001b[0m\n",
      "\u001b[34m2020-07-22 10:59:45,993 sagemaker-training-toolkit INFO     No GPUs detected (normal if no gpus installed)\u001b[0m\n",
      "\u001b[34m2020-07-22 10:59:46,005 sagemaker-training-toolkit INFO     Invoking user script\n",
      "\u001b[0m\n",
      "\u001b[34mTraining Env:\n",
      "\u001b[0m\n",
      "\u001b[34m{\n",
      "    \"additional_framework_parameters\": {},\n",
      "    \"channel_input_dirs\": {\n",
      "        \"validation\": \"/opt/ml/input/data/validation\",\n",
      "        \"train\": \"/opt/ml/input/data/train\"\n",
      "    },\n",
      "    \"current_host\": \"algo-1\",\n",
      "    \"framework_module\": \"sagemaker_sklearn_container.training:main\",\n",
      "    \"hosts\": [\n",
      "        \"algo-1\"\n",
      "    ],\n",
      "    \"hyperparameters\": {\n",
      "        \"model-name\": \"100SDW_EIAR_2009_RF\"\n",
      "    },\n",
      "    \"input_config_dir\": \"/opt/ml/input/config\",\n",
      "    \"input_data_config\": {\n",
      "        \"validation\": {\n",
      "            \"ContentType\": \"csv\",\n",
      "            \"TrainingInputMode\": \"File\",\n",
      "            \"S3DistributionType\": \"FullyReplicated\",\n",
      "            \"RecordWrapperType\": \"None\"\n",
      "        },\n",
      "        \"train\": {\n",
      "            \"ContentType\": \"csv\",\n",
      "            \"TrainingInputMode\": \"File\",\n",
      "            \"S3DistributionType\": \"FullyReplicated\",\n",
      "            \"RecordWrapperType\": \"None\"\n",
      "        }\n",
      "    },\n",
      "    \"input_dir\": \"/opt/ml/input\",\n",
      "    \"is_master\": true,\n",
      "    \"job_name\": \"gp-100SDW-EIAR-2009-RF-2020-07-22-10-56-19-965\",\n",
      "    \"log_level\": 20,\n",
      "    \"master_hostname\": \"algo-1\",\n",
      "    \"model_dir\": \"/opt/ml/model\",\n",
      "    \"module_dir\": \"s3://sagemaker-ap-south-1-580246529711/RF_SCIKIT/model_prep/100SDW_EIAR_2009_RF/code/gp-100SDW-EIAR-2009-RF-2020-07-22-10-56-19-965/source/sourcedir.tar.gz\",\n",
      "    \"module_name\": \"train_prediction\",\n",
      "    \"network_interface_name\": \"eth0\",\n",
      "    \"num_cpus\": 4,\n",
      "    \"num_gpus\": 0,\n",
      "    \"output_data_dir\": \"/opt/ml/output/data\",\n",
      "    \"output_dir\": \"/opt/ml/output\",\n",
      "    \"output_intermediate_dir\": \"/opt/ml/output/intermediate\",\n",
      "    \"resource_config\": {\n",
      "        \"current_host\": \"algo-1\",\n",
      "        \"hosts\": [\n",
      "            \"algo-1\"\n",
      "        ],\n",
      "        \"network_interface_name\": \"eth0\"\n",
      "    },\n",
      "    \"user_entry_point\": \"train_prediction.py\"\u001b[0m\n",
      "\u001b[34m}\n",
      "\u001b[0m\n",
      "\u001b[34mEnvironment variables:\n",
      "\u001b[0m\n",
      "\u001b[34mSM_HOSTS=[\"algo-1\"]\u001b[0m\n",
      "\u001b[34mSM_NETWORK_INTERFACE_NAME=eth0\u001b[0m\n",
      "\u001b[34mSM_HPS={\"model-name\":\"100SDW_EIAR_2009_RF\"}\u001b[0m\n",
      "\u001b[34mSM_USER_ENTRY_POINT=train_prediction.py\u001b[0m\n",
      "\u001b[34mSM_FRAMEWORK_PARAMS={}\u001b[0m\n",
      "\u001b[34mSM_RESOURCE_CONFIG={\"current_host\":\"algo-1\",\"hosts\":[\"algo-1\"],\"network_interface_name\":\"eth0\"}\u001b[0m\n",
      "\u001b[34mSM_INPUT_DATA_CONFIG={\"train\":{\"ContentType\":\"csv\",\"RecordWrapperType\":\"None\",\"S3DistributionType\":\"FullyReplicated\",\"TrainingInputMode\":\"File\"},\"validation\":{\"ContentType\":\"csv\",\"RecordWrapperType\":\"None\",\"S3DistributionType\":\"FullyReplicated\",\"TrainingInputMode\":\"File\"}}\u001b[0m\n",
      "\u001b[34mSM_OUTPUT_DATA_DIR=/opt/ml/output/data\u001b[0m\n",
      "\u001b[34mSM_CHANNELS=[\"train\",\"validation\"]\u001b[0m\n",
      "\u001b[34mSM_CURRENT_HOST=algo-1\u001b[0m\n",
      "\u001b[34mSM_MODULE_NAME=train_prediction\u001b[0m\n",
      "\u001b[34mSM_LOG_LEVEL=20\u001b[0m\n",
      "\u001b[34mSM_FRAMEWORK_MODULE=sagemaker_sklearn_container.training:main\u001b[0m\n",
      "\u001b[34mSM_INPUT_DIR=/opt/ml/input\u001b[0m\n",
      "\u001b[34mSM_INPUT_CONFIG_DIR=/opt/ml/input/config\u001b[0m\n",
      "\u001b[34mSM_OUTPUT_DIR=/opt/ml/output\u001b[0m\n",
      "\u001b[34mSM_NUM_CPUS=4\u001b[0m\n",
      "\u001b[34mSM_NUM_GPUS=0\u001b[0m\n",
      "\u001b[34mSM_MODEL_DIR=/opt/ml/model\u001b[0m\n",
      "\u001b[34mSM_MODULE_DIR=s3://sagemaker-ap-south-1-580246529711/RF_SCIKIT/model_prep/100SDW_EIAR_2009_RF/code/gp-100SDW-EIAR-2009-RF-2020-07-22-10-56-19-965/source/sourcedir.tar.gz\u001b[0m\n",
      "\u001b[34mSM_TRAINING_ENV={\"additional_framework_parameters\":{},\"channel_input_dirs\":{\"train\":\"/opt/ml/input/data/train\",\"validation\":\"/opt/ml/input/data/validation\"},\"current_host\":\"algo-1\",\"framework_module\":\"sagemaker_sklearn_container.training:main\",\"hosts\":[\"algo-1\"],\"hyperparameters\":{\"model-name\":\"100SDW_EIAR_2009_RF\"},\"input_config_dir\":\"/opt/ml/input/config\",\"input_data_config\":{\"train\":{\"ContentType\":\"csv\",\"RecordWrapperType\":\"None\",\"S3DistributionType\":\"FullyReplicated\",\"TrainingInputMode\":\"File\"},\"validation\":{\"ContentType\":\"csv\",\"RecordWrapperType\":\"None\",\"S3DistributionType\":\"FullyReplicated\",\"TrainingInputMode\":\"File\"}},\"input_dir\":\"/opt/ml/input\",\"is_master\":true,\"job_name\":\"gp-100SDW-EIAR-2009-RF-2020-07-22-10-56-19-965\",\"log_level\":20,\"master_hostname\":\"algo-1\",\"model_dir\":\"/opt/ml/model\",\"module_dir\":\"s3://sagemaker-ap-south-1-580246529711/RF_SCIKIT/model_prep/100SDW_EIAR_2009_RF/code/gp-100SDW-EIAR-2009-RF-2020-07-22-10-56-19-965/source/sourcedir.tar.gz\",\"module_name\":\"train_prediction\",\"network_interface_name\":\"eth0\",\"num_cpus\":4,\"num_gpus\":0,\"output_data_dir\":\"/opt/ml/output/data\",\"output_dir\":\"/opt/ml/output\",\"output_intermediate_dir\":\"/opt/ml/output/intermediate\",\"resource_config\":{\"current_host\":\"algo-1\",\"hosts\":[\"algo-1\"],\"network_interface_name\":\"eth0\"},\"user_entry_point\":\"train_prediction.py\"}\u001b[0m\n",
      "\u001b[34mSM_USER_ARGS=[\"--model-name\",\"100SDW_EIAR_2009_RF\"]\u001b[0m\n",
      "\u001b[34mSM_OUTPUT_INTERMEDIATE_DIR=/opt/ml/output/intermediate\u001b[0m\n",
      "\u001b[34mSM_CHANNEL_VALIDATION=/opt/ml/input/data/validation\u001b[0m\n",
      "\u001b[34mSM_CHANNEL_TRAIN=/opt/ml/input/data/train\u001b[0m\n",
      "\u001b[34mSM_HP_MODEL-NAME=100SDW_EIAR_2009_RF\u001b[0m\n",
      "\u001b[34mPYTHONPATH=/opt/ml/code:/miniconda3/bin:/miniconda3/lib/python37.zip:/miniconda3/lib/python3.7:/miniconda3/lib/python3.7/lib-dynload:/miniconda3/lib/python3.7/site-packages\n",
      "\u001b[0m\n",
      "\u001b[34mInvoking script with the following command:\n",
      "\u001b[0m\n",
      "\u001b[34m/miniconda3/bin/python train_prediction.py --model-name 100SDW_EIAR_2009_RF\n",
      "\n",
      "\u001b[0m\n",
      "\u001b[34mreading data\u001b[0m\n",
      "\u001b[34mmodel_name: 100SDW_EIAR_2009_RF\u001b[0m\n",
      "\u001b[34mbuilding training and testing datasets\u001b[0m\n",
      "\u001b[34m0      29.590066\u001b[0m\n",
      "\u001b[34m1      22.383505\u001b[0m\n",
      "\u001b[34m2      18.746287\u001b[0m\n",
      "\u001b[34m3      26.371136\u001b[0m\n",
      "\u001b[34m4      23.488511\n",
      "         ...    \u001b[0m\n",
      "\u001b[34m179    22.479592\u001b[0m\n",
      "\u001b[34m180    18.746287\u001b[0m\n",
      "\u001b[34m181    15.609337\u001b[0m\n",
      "\u001b[34m182    15.176943\u001b[0m\n",
      "\u001b[34m183    29.013542\u001b[0m\n",
      "\u001b[34mName: 100SDW_EIAR_2009_RF, Length: 184, dtype: float64\u001b[0m\n",
      "\u001b[34mFitting 10 folds for each of 10 candidates, totalling 100 fits\u001b[0m\n",
      "\u001b[34m[Parallel(n_jobs=-1)]: Using backend LokyBackend with 4 concurrent workers.\u001b[0m\n",
      "\u001b[34m[CV] n_estimators=20, min_samples_split=5, max_features=auto, max_depth=1 \u001b[0m\n",
      "\u001b[34m[CV] n_estimators=20, min_samples_split=5, max_features=auto, max_depth=1 \u001b[0m\n",
      "\u001b[34m[CV] n_estimators=20, min_samples_split=5, max_features=auto, max_depth=1 \u001b[0m\n",
      "\u001b[34m[CV] n_estimators=20, min_samples_split=5, max_features=auto, max_depth=1 \u001b[0m\n",
      "\u001b[34m[CV]  n_estimators=20, min_samples_split=5, max_features=auto, max_depth=1, total=   0.3s\u001b[0m\n",
      "\u001b[34m[CV]  n_estimators=20, min_samples_split=5, max_features=auto, max_depth=1, total=   0.3s\u001b[0m\n",
      "\u001b[34m[CV] n_estimators=20, min_samples_split=5, max_features=auto, max_depth=1 \u001b[0m\n",
      "\u001b[34m[CV]  n_estimators=20, min_samples_split=5, max_features=auto, max_depth=1, total=   0.3s\u001b[0m\n",
      "\u001b[34m[CV] n_estimators=20, min_samples_split=5, max_features=auto, max_depth=1 \u001b[0m\n",
      "\u001b[34m[CV]  n_estimators=20, min_samples_split=5, max_features=auto, max_depth=1, total=   0.3s\u001b[0m\n",
      "\u001b[34m[CV] n_estimators=20, min_samples_split=5, max_features=auto, max_depth=1 \u001b[0m\n",
      "\u001b[34m[CV] n_estimators=20, min_samples_split=5, max_features=auto, max_depth=1 \u001b[0m\n",
      "\u001b[34m[CV]  n_estimators=20, min_samples_split=5, max_features=auto, max_depth=1, total=   0.3s\u001b[0m\n",
      "\u001b[34m[CV] n_estimators=20, min_samples_split=5, max_features=auto, max_depth=1 \u001b[0m\n",
      "\u001b[34m[CV]  n_estimators=20, min_samples_split=5, max_features=auto, max_depth=1, total=   0.3s\u001b[0m\n",
      "\u001b[34m[CV] n_estimators=20, min_samples_split=5, max_features=auto, max_depth=1 \u001b[0m\n",
      "\u001b[34m[CV]  n_estimators=20, min_samples_split=5, max_features=auto, max_depth=1, total=   0.3s\u001b[0m\n",
      "\u001b[34m[CV] n_estimators=20, min_samples_split=10, max_features=auto, max_depth=1 \u001b[0m\n",
      "\u001b[34m[CV]  n_estimators=20, min_samples_split=5, max_features=auto, max_depth=1, total=   0.3s\u001b[0m\n",
      "\u001b[34m[CV] n_estimators=20, min_samples_split=10, max_features=auto, max_depth=1 \u001b[0m\n",
      "\u001b[34m[CV]  n_estimators=20, min_samples_split=5, max_features=auto, max_depth=1, total=   0.3s\u001b[0m\n",
      "\u001b[34m[CV] n_estimators=20, min_samples_split=10, max_features=auto, max_depth=1 \u001b[0m\n",
      "\u001b[34m[CV]  n_estimators=20, min_samples_split=5, max_features=auto, max_depth=1, total=   0.3s\u001b[0m\n",
      "\u001b[34m[CV] n_estimators=20, min_samples_split=10, max_features=auto, max_depth=1 \u001b[0m\n",
      "\u001b[34m[CV]  n_estimators=20, min_samples_split=10, max_features=auto, max_depth=1, total=   0.3s\u001b[0m\n",
      "\u001b[34m[CV] n_estimators=20, min_samples_split=10, max_features=auto, max_depth=1 \u001b[0m\n",
      "\u001b[34m[CV]  n_estimators=20, min_samples_split=10, max_features=auto, max_depth=1, total=   0.3s\u001b[0m\n",
      "\u001b[34m[CV] n_estimators=20, min_samples_split=10, max_features=auto, max_depth=1 \u001b[0m\n",
      "\u001b[34m[CV]  n_estimators=20, min_samples_split=10, max_features=auto, max_depth=1, total=   0.3s\u001b[0m\n",
      "\u001b[34m[CV] n_estimators=20, min_samples_split=10, max_features=auto, max_depth=1 \u001b[0m\n",
      "\u001b[34m[CV]  n_estimators=20, min_samples_split=10, max_features=auto, max_depth=1, total=   0.3s\u001b[0m\n",
      "\u001b[34m[CV] n_estimators=20, min_samples_split=10, max_features=auto, max_depth=1 \u001b[0m\n",
      "\u001b[34m[CV]  n_estimators=20, min_samples_split=10, max_features=auto, max_depth=1, total=   0.3s\u001b[0m\n",
      "\u001b[34m[CV] n_estimators=20, min_samples_split=10, max_features=auto, max_depth=1 \u001b[0m\n",
      "\u001b[34m[CV]  n_estimators=20, min_samples_split=10, max_features=auto, max_depth=1, total=   0.3s\u001b[0m\n",
      "\u001b[34m[CV] n_estimators=20, min_samples_split=10, max_features=auto, max_depth=1 \u001b[0m\n",
      "\u001b[34m[CV]  n_estimators=20, min_samples_split=10, max_features=auto, max_depth=1, total=   0.3s\u001b[0m\n",
      "\u001b[34m[CV] n_estimators=65, min_samples_split=10, max_features=sqrt, max_depth=23 \u001b[0m\n",
      "\u001b[34m[CV]  n_estimators=20, min_samples_split=10, max_features=auto, max_depth=1, total=   0.3s\u001b[0m\n",
      "\u001b[34m[CV] n_estimators=65, min_samples_split=10, max_features=sqrt, max_depth=23 \u001b[0m\n",
      "\u001b[34m[CV]  n_estimators=20, min_samples_split=10, max_features=auto, max_depth=1, total=   0.3s\u001b[0m\n",
      "\u001b[34m[CV] n_estimators=65, min_samples_split=10, max_features=sqrt, max_depth=23 \u001b[0m\n",
      "\u001b[34m[CV]  n_estimators=20, min_samples_split=10, max_features=auto, max_depth=1, total=   0.4s\u001b[0m\n",
      "\u001b[34m[CV] n_estimators=65, min_samples_split=10, max_features=sqrt, max_depth=23 \u001b[0m\n",
      "\u001b[34m[CV]  n_estimators=65, min_samples_split=10, max_features=sqrt, max_depth=23, total=   0.4s\u001b[0m\n",
      "\u001b[34m[CV] n_estimators=65, min_samples_split=10, max_features=sqrt, max_depth=23 \u001b[0m\n",
      "\u001b[34m[CV]  n_estimators=65, min_samples_split=10, max_features=sqrt, max_depth=23, total=   0.4s\u001b[0m\n",
      "\u001b[34m[CV] n_estimators=65, min_samples_split=10, max_features=sqrt, max_depth=23 \u001b[0m\n",
      "\u001b[34m[CV]  n_estimators=65, min_samples_split=10, max_features=sqrt, max_depth=23, total=   0.5s\u001b[0m\n",
      "\u001b[34m[CV]  n_estimators=65, min_samples_split=10, max_features=sqrt, max_depth=23, total=   0.4s\u001b[0m\n",
      "\u001b[34m[CV] n_estimators=65, min_samples_split=10, max_features=sqrt, max_depth=23 \u001b[0m\n",
      "\u001b[34m[CV] n_estimators=65, min_samples_split=10, max_features=sqrt, max_depth=23 \u001b[0m\n",
      "\u001b[34m[CV]  n_estimators=65, min_samples_split=10, max_features=sqrt, max_depth=23, total=   0.4s\u001b[0m\n",
      "\u001b[34m[CV] n_estimators=65, min_samples_split=10, max_features=sqrt, max_depth=23 \u001b[0m\n",
      "\u001b[34m[CV]  n_estimators=65, min_samples_split=10, max_features=sqrt, max_depth=23, total=   0.4s\u001b[0m\n",
      "\u001b[34m[CV] n_estimators=65, min_samples_split=10, max_features=sqrt, max_depth=23 \u001b[0m\n",
      "\u001b[34m[CV]  n_estimators=65, min_samples_split=10, max_features=sqrt, max_depth=23, total=   0.4s\u001b[0m\n",
      "\u001b[34m[CV] n_estimators=20, min_samples_split=10, max_features=auto, max_depth=45 \u001b[0m\n",
      "\u001b[34m[CV]  n_estimators=65, min_samples_split=10, max_features=sqrt, max_depth=23, total=   0.4s\u001b[0m\n",
      "\u001b[34m[CV] n_estimators=20, min_samples_split=10, max_features=auto, max_depth=45 \u001b[0m\n",
      "\u001b[34m[CV]  n_estimators=65, min_samples_split=10, max_features=sqrt, max_depth=23, total=   0.4s\u001b[0m\n",
      "\u001b[34m[CV] n_estimators=20, min_samples_split=10, max_features=auto, max_depth=45 \u001b[0m\n",
      "\u001b[34m[CV]  n_estimators=65, min_samples_split=10, max_features=sqrt, max_depth=23, total=   0.4s\u001b[0m\n",
      "\u001b[34m[CV] n_estimators=20, min_samples_split=10, max_features=auto, max_depth=45 \u001b[0m\n",
      "\u001b[34m[CV]  n_estimators=20, min_samples_split=10, max_features=auto, max_depth=45, total=   1.2s\u001b[0m\n",
      "\u001b[34m[CV] n_estimators=20, min_samples_split=10, max_features=auto, max_depth=45 \u001b[0m\n",
      "\u001b[34m[CV]  n_estimators=20, min_samples_split=10, max_features=auto, max_depth=45, total=   1.2s\u001b[0m\n",
      "\u001b[34m[CV] n_estimators=20, min_samples_split=10, max_features=auto, max_depth=45 \u001b[0m\n",
      "\u001b[34m[CV]  n_estimators=20, min_samples_split=10, max_features=auto, max_depth=45, total=   1.1s\u001b[0m\n",
      "\u001b[34m[Parallel(n_jobs=-1)]: Done  33 tasks      | elapsed:    5.1s\u001b[0m\n",
      "\u001b[34m[CV] n_estimators=20, min_samples_split=10, max_features=auto, max_depth=45 \u001b[0m\n",
      "\u001b[34m[CV]  n_estimators=20, min_samples_split=10, max_features=auto, max_depth=45, total=   1.2s\u001b[0m\n",
      "\u001b[34m[CV] n_estimators=20, min_samples_split=10, max_features=auto, max_depth=45 \u001b[0m\n",
      "\u001b[34m[CV]  n_estimators=20, min_samples_split=10, max_features=auto, max_depth=45, total=   1.2s\u001b[0m\n",
      "\u001b[34m[CV] n_estimators=20, min_samples_split=10, max_features=auto, max_depth=45 \u001b[0m\n",
      "\u001b[34m[CV]  n_estimators=20, min_samples_split=10, max_features=auto, max_depth=45, total=   1.2s\u001b[0m\n",
      "\u001b[34m[CV] n_estimators=20, min_samples_split=10, max_features=auto, max_depth=45 \u001b[0m\n",
      "\u001b[34m[CV]  n_estimators=20, min_samples_split=10, max_features=auto, max_depth=45, total=   1.2s\u001b[0m\n",
      "\u001b[34m[CV] n_estimators=155, min_samples_split=5, max_features=sqrt, max_depth=1 \u001b[0m\n",
      "\u001b[34m[CV]  n_estimators=20, min_samples_split=10, max_features=auto, max_depth=45, total=   1.2s\u001b[0m\n",
      "\u001b[34m[CV] n_estimators=155, min_samples_split=5, max_features=sqrt, max_depth=1 \u001b[0m\n",
      "\u001b[34m[CV]  n_estimators=155, min_samples_split=5, max_features=sqrt, max_depth=1, total=   0.5s\u001b[0m\n",
      "\u001b[34m[CV] n_estimators=155, min_samples_split=5, max_features=sqrt, max_depth=1 \u001b[0m\n",
      "\u001b[34m[CV]  n_estimators=155, min_samples_split=5, max_features=sqrt, max_depth=1, total=   0.5s\u001b[0m\n",
      "\u001b[34m[CV] n_estimators=155, min_samples_split=5, max_features=sqrt, max_depth=1 \u001b[0m\n",
      "\u001b[34m[CV]  n_estimators=20, min_samples_split=10, max_features=auto, max_depth=45, total=   1.2s\u001b[0m\n",
      "\u001b[34m[CV] n_estimators=155, min_samples_split=5, max_features=sqrt, max_depth=1 \u001b[0m\n",
      "\u001b[34m[CV]  n_estimators=20, min_samples_split=10, max_features=auto, max_depth=45, total=   1.2s\u001b[0m\n",
      "\u001b[34m[CV] n_estimators=155, min_samples_split=5, max_features=sqrt, max_depth=1 \u001b[0m\n",
      "\u001b[34m[CV]  n_estimators=155, min_samples_split=5, max_features=sqrt, max_depth=1, total=   0.5s\u001b[0m\n",
      "\u001b[34m[CV] n_estimators=155, min_samples_split=5, max_features=sqrt, max_depth=1 \u001b[0m\n",
      "\u001b[34m[CV]  n_estimators=155, min_samples_split=5, max_features=sqrt, max_depth=1, total=   0.6s\u001b[0m\n",
      "\u001b[34m[CV] n_estimators=155, min_samples_split=5, max_features=sqrt, max_depth=1 \u001b[0m\n",
      "\u001b[34m[CV]  n_estimators=155, min_samples_split=5, max_features=sqrt, max_depth=1, total=   0.5s\u001b[0m\n",
      "\u001b[34m[CV] n_estimators=155, min_samples_split=5, max_features=sqrt, max_depth=1 \u001b[0m\n",
      "\u001b[34m[CV]  n_estimators=155, min_samples_split=5, max_features=sqrt, max_depth=1, total=   0.5s\u001b[0m\n",
      "\u001b[34m[CV] n_estimators=155, min_samples_split=5, max_features=sqrt, max_depth=1 \u001b[0m\n",
      "\u001b[34m[CV]  n_estimators=155, min_samples_split=5, max_features=sqrt, max_depth=1, total=   0.5s\u001b[0m\n",
      "\u001b[34m[CV] n_estimators=200, min_samples_split=5, max_features=sqrt, max_depth=45 \u001b[0m\n",
      "\u001b[34m[CV]  n_estimators=155, min_samples_split=5, max_features=sqrt, max_depth=1, total=   0.6s\u001b[0m\n",
      "\u001b[34m[CV] n_estimators=200, min_samples_split=5, max_features=sqrt, max_depth=45 \u001b[0m\n",
      "\u001b[34m[CV]  n_estimators=155, min_samples_split=5, max_features=sqrt, max_depth=1, total=   0.5s\u001b[0m\n",
      "\u001b[34m[CV]  n_estimators=155, min_samples_split=5, max_features=sqrt, max_depth=1, total=   0.5s\u001b[0m\n",
      "\u001b[34m[CV] n_estimators=200, min_samples_split=5, max_features=sqrt, max_depth=45 \u001b[0m\n",
      "\u001b[34m[CV] n_estimators=200, min_samples_split=5, max_features=sqrt, max_depth=45 \u001b[0m\n",
      "\u001b[34m[CV]  n_estimators=200, min_samples_split=5, max_features=sqrt, max_depth=45, total=   0.9s\u001b[0m\n",
      "\u001b[34m[CV] n_estimators=200, min_samples_split=5, max_features=sqrt, max_depth=45 \u001b[0m\n",
      "\u001b[34m[CV]  n_estimators=200, min_samples_split=5, max_features=sqrt, max_depth=45, total=   0.9s\u001b[0m\n",
      "\u001b[34m[CV] n_estimators=200, min_samples_split=5, max_features=sqrt, max_depth=45 \u001b[0m\n",
      "\u001b[34m[CV]  n_estimators=200, min_samples_split=5, max_features=sqrt, max_depth=45, total=   0.9s\u001b[0m\n",
      "\u001b[34m[CV] n_estimators=200, min_samples_split=5, max_features=sqrt, max_depth=45 \u001b[0m\n",
      "\u001b[34m[CV]  n_estimators=200, min_samples_split=5, max_features=sqrt, max_depth=45, total=   1.0s\u001b[0m\n",
      "\u001b[34m[CV] n_estimators=200, min_samples_split=5, max_features=sqrt, max_depth=45 \u001b[0m\n",
      "\u001b[34m[CV]  n_estimators=200, min_samples_split=5, max_features=sqrt, max_depth=45, total=   0.9s\u001b[0m\n",
      "\u001b[34m[CV] n_estimators=200, min_samples_split=5, max_features=sqrt, max_depth=45 \u001b[0m\n",
      "\u001b[34m[CV]  n_estimators=200, min_samples_split=5, max_features=sqrt, max_depth=45, total=   0.9s\u001b[0m\n",
      "\u001b[34m[CV] n_estimators=200, min_samples_split=5, max_features=sqrt, max_depth=45 \u001b[0m\n",
      "\u001b[34m[CV]  n_estimators=200, min_samples_split=5, max_features=sqrt, max_depth=45, total=   0.9s\u001b[0m\n",
      "\u001b[34m[CV] n_estimators=155, min_samples_split=5, max_features=sqrt, max_depth=23 \u001b[0m\n",
      "\u001b[34m[CV]  n_estimators=200, min_samples_split=5, max_features=sqrt, max_depth=45, total=   1.0s\u001b[0m\n",
      "\u001b[34m[CV] n_estimators=155, min_samples_split=5, max_features=sqrt, max_depth=23 \u001b[0m\n",
      "\u001b[34m[CV]  n_estimators=200, min_samples_split=5, max_features=sqrt, max_depth=45, total=   0.9s\u001b[0m\n",
      "\u001b[34m[CV] n_estimators=155, min_samples_split=5, max_features=sqrt, max_depth=23 \u001b[0m\n",
      "\u001b[34m[CV]  n_estimators=155, min_samples_split=5, max_features=sqrt, max_depth=23, total=   0.7s\u001b[0m\n",
      "\u001b[34m[CV] n_estimators=155, min_samples_split=5, max_features=sqrt, max_depth=23 \u001b[0m\n",
      "\u001b[34m[CV]  n_estimators=200, min_samples_split=5, max_features=sqrt, max_depth=45, total=   1.0s\u001b[0m\n",
      "\u001b[34m[CV] n_estimators=155, min_samples_split=5, max_features=sqrt, max_depth=23 \u001b[0m\n",
      "\u001b[34m[CV]  n_estimators=155, min_samples_split=5, max_features=sqrt, max_depth=23, total=   0.8s\u001b[0m\n",
      "\u001b[34m[CV] n_estimators=155, min_samples_split=5, max_features=sqrt, max_depth=23 \u001b[0m\n",
      "\u001b[34m[CV]  n_estimators=155, min_samples_split=5, max_features=sqrt, max_depth=23, total=   0.7s\u001b[0m\n",
      "\u001b[34m[CV] n_estimators=155, min_samples_split=5, max_features=sqrt, max_depth=23 \u001b[0m\n",
      "\u001b[34m[CV]  n_estimators=155, min_samples_split=5, max_features=sqrt, max_depth=23, total=   0.7s\u001b[0m\n",
      "\u001b[34m[CV] n_estimators=155, min_samples_split=5, max_features=sqrt, max_depth=23 \u001b[0m\n",
      "\u001b[34m[CV]  n_estimators=155, min_samples_split=5, max_features=sqrt, max_depth=23, total=   0.7s\u001b[0m\n",
      "\u001b[34m[CV] n_estimators=155, min_samples_split=5, max_features=sqrt, max_depth=23 \u001b[0m\n",
      "\u001b[34m[CV]  n_estimators=155, min_samples_split=5, max_features=sqrt, max_depth=23, total=   0.7s\u001b[0m\n",
      "\u001b[34m[CV] n_estimators=155, min_samples_split=5, max_features=sqrt, max_depth=23 \u001b[0m\n",
      "\u001b[34m[CV]  n_estimators=155, min_samples_split=5, max_features=sqrt, max_depth=23, total=   0.7s\u001b[0m\n",
      "\u001b[34m[CV] n_estimators=155, min_samples_split=10, max_features=auto, max_depth=45 \u001b[0m\n",
      "\u001b[34m[CV]  n_estimators=155, min_samples_split=5, max_features=sqrt, max_depth=23, total=   0.7s\u001b[0m\n",
      "\u001b[34m[CV] n_estimators=155, min_samples_split=10, max_features=auto, max_depth=45 \u001b[0m\n",
      "\u001b[34m[CV]  n_estimators=155, min_samples_split=5, max_features=sqrt, max_depth=23, total=   0.7s\u001b[0m\n",
      "\u001b[34m[CV] n_estimators=155, min_samples_split=10, max_features=auto, max_depth=45 \u001b[0m\n",
      "\u001b[34m[CV]  n_estimators=155, min_samples_split=5, max_features=sqrt, max_depth=23, total=   0.8s\u001b[0m\n",
      "\u001b[34m[CV] n_estimators=155, min_samples_split=10, max_features=auto, max_depth=45 \u001b[0m\n",
      "\u001b[34m[CV]  n_estimators=155, min_samples_split=10, max_features=auto, max_depth=45, total=   8.2s\u001b[0m\n",
      "\u001b[34m[CV] n_estimators=155, min_samples_split=10, max_features=auto, max_depth=45 \u001b[0m\n",
      "\u001b[34m[CV]  n_estimators=155, min_samples_split=10, max_features=auto, max_depth=45, total=   8.3s\u001b[0m\n",
      "\u001b[34m[CV] n_estimators=155, min_samples_split=10, max_features=auto, max_depth=45 \u001b[0m\n",
      "\u001b[34m[CV]  n_estimators=155, min_samples_split=10, max_features=auto, max_depth=45, total=   8.8s\u001b[0m\n",
      "\u001b[34m[CV] n_estimators=155, min_samples_split=10, max_features=auto, max_depth=45 \u001b[0m\n",
      "\u001b[34m[CV]  n_estimators=155, min_samples_split=10, max_features=auto, max_depth=45, total=   8.4s\u001b[0m\n",
      "\u001b[34m[CV] n_estimators=155, min_samples_split=10, max_features=auto, max_depth=45 \u001b[0m\n",
      "\u001b[34m[CV]  n_estimators=155, min_samples_split=10, max_features=auto, max_depth=45, total=   8.1s\u001b[0m\n",
      "\u001b[34m[CV] n_estimators=155, min_samples_split=10, max_features=auto, max_depth=45 \u001b[0m\n",
      "\u001b[34m[CV]  n_estimators=155, min_samples_split=10, max_features=auto, max_depth=45, total=   8.0s\u001b[0m\n",
      "\u001b[34m[CV] n_estimators=155, min_samples_split=10, max_features=auto, max_depth=45 \u001b[0m\n",
      "\u001b[34m[CV]  n_estimators=155, min_samples_split=10, max_features=auto, max_depth=45, total=   8.4s\u001b[0m\n",
      "\u001b[34m[CV] n_estimators=110, min_samples_split=5, max_features=sqrt, max_depth=1 \u001b[0m\n",
      "\u001b[34m[CV]  n_estimators=155, min_samples_split=10, max_features=auto, max_depth=45, total=   8.6s\u001b[0m\n",
      "\u001b[34m[CV] n_estimators=110, min_samples_split=5, max_features=sqrt, max_depth=1 \u001b[0m\n",
      "\u001b[34m[CV]  n_estimators=110, min_samples_split=5, max_features=sqrt, max_depth=1, total=   0.4s\u001b[0m\n",
      "\u001b[34m[CV] n_estimators=110, min_samples_split=5, max_features=sqrt, max_depth=1 \u001b[0m\n",
      "\u001b[34m[CV]  n_estimators=110, min_samples_split=5, max_features=sqrt, max_depth=1, total=   0.4s\u001b[0m\n",
      "\u001b[34m[CV] n_estimators=110, min_samples_split=5, max_features=sqrt, max_depth=1 \u001b[0m\n",
      "\u001b[34m[CV]  n_estimators=110, min_samples_split=5, max_features=sqrt, max_depth=1, total=   0.4s\u001b[0m\n",
      "\u001b[34m[CV] n_estimators=110, min_samples_split=5, max_features=sqrt, max_depth=1 \u001b[0m\n",
      "\u001b[34m[CV]  n_estimators=110, min_samples_split=5, max_features=sqrt, max_depth=1, total=   0.4s\u001b[0m\n",
      "\u001b[34m[CV] n_estimators=110, min_samples_split=5, max_features=sqrt, max_depth=1 \u001b[0m\n",
      "\u001b[34m[CV]  n_estimators=110, min_samples_split=5, max_features=sqrt, max_depth=1, total=   0.4s\u001b[0m\n",
      "\u001b[34m[CV] n_estimators=110, min_samples_split=5, max_features=sqrt, max_depth=1 \u001b[0m\n",
      "\u001b[34m[CV]  n_estimators=110, min_samples_split=5, max_features=sqrt, max_depth=1, total=   0.4s\u001b[0m\n",
      "\u001b[34m[CV] n_estimators=110, min_samples_split=5, max_features=sqrt, max_depth=1 \u001b[0m\n",
      "\u001b[34m[CV]  n_estimators=110, min_samples_split=5, max_features=sqrt, max_depth=1, total=   0.4s\u001b[0m\n",
      "\u001b[34m[CV] n_estimators=110, min_samples_split=5, max_features=sqrt, max_depth=1 \u001b[0m\n",
      "\u001b[34m[CV]  n_estimators=110, min_samples_split=5, max_features=sqrt, max_depth=1, total=   0.4s\u001b[0m\n",
      "\u001b[34m[CV] n_estimators=110, min_samples_split=5, max_features=sqrt, max_depth=1 \u001b[0m\n",
      "\u001b[34m[CV]  n_estimators=110, min_samples_split=5, max_features=sqrt, max_depth=1, total=   0.4s\u001b[0m\n",
      "\u001b[34m[CV] n_estimators=110, min_samples_split=10, max_features=sqrt, max_depth=45 \u001b[0m\n",
      "\u001b[34m[CV]  n_estimators=110, min_samples_split=5, max_features=sqrt, max_depth=1, total=   0.4s\u001b[0m\n",
      "\u001b[34m[CV] n_estimators=110, min_samples_split=10, max_features=sqrt, max_depth=45 \u001b[0m\n",
      "\u001b[34m[CV]  n_estimators=110, min_samples_split=10, max_features=sqrt, max_depth=45, total=   0.5s\u001b[0m\n",
      "\u001b[34m[CV] n_estimators=110, min_samples_split=10, max_features=sqrt, max_depth=45 \u001b[0m\n",
      "\u001b[34m[CV]  n_estimators=110, min_samples_split=10, max_features=sqrt, max_depth=45, total=   0.5s\u001b[0m\n",
      "\u001b[34m[CV] n_estimators=110, min_samples_split=10, max_features=sqrt, max_depth=45 \u001b[0m\n",
      "\u001b[34m[CV]  n_estimators=110, min_samples_split=10, max_features=sqrt, max_depth=45, total=   0.5s\u001b[0m\n",
      "\u001b[34m[CV] n_estimators=110, min_samples_split=10, max_features=sqrt, max_depth=45 \u001b[0m\n",
      "\u001b[34m[CV]  n_estimators=110, min_samples_split=10, max_features=sqrt, max_depth=45, total=   0.5s\u001b[0m\n",
      "\u001b[34m[CV] n_estimators=110, min_samples_split=10, max_features=sqrt, max_depth=45 \u001b[0m\n",
      "\u001b[34m[CV]  n_estimators=110, min_samples_split=10, max_features=sqrt, max_depth=45, total=   0.5s\u001b[0m\n",
      "\u001b[34m[CV] n_estimators=110, min_samples_split=10, max_features=sqrt, max_depth=45 \u001b[0m\n",
      "\u001b[34m[CV]  n_estimators=110, min_samples_split=10, max_features=sqrt, max_depth=45, total=   0.5s\u001b[0m\n",
      "\u001b[34m[CV] n_estimators=110, min_samples_split=10, max_features=sqrt, max_depth=45 \u001b[0m\n",
      "\u001b[34m[CV]  n_estimators=110, min_samples_split=10, max_features=sqrt, max_depth=45, total=   0.5s\u001b[0m\n",
      "\u001b[34m[CV] n_estimators=110, min_samples_split=10, max_features=sqrt, max_depth=45 \u001b[0m\n",
      "\u001b[34m[CV]  n_estimators=110, min_samples_split=10, max_features=sqrt, max_depth=45, total=   0.5s\u001b[0m\n",
      "\u001b[34m[CV] n_estimators=110, min_samples_split=10, max_features=sqrt, max_depth=45 \u001b[0m\n",
      "\u001b[34m[CV]  n_estimators=110, min_samples_split=10, max_features=sqrt, max_depth=45, total=   0.5s\u001b[0m\n",
      "\u001b[34m[CV]  n_estimators=110, min_samples_split=10, max_features=sqrt, max_depth=45, total=   0.5s\u001b[0m\n",
      "\u001b[34m[CV]  n_estimators=155, min_samples_split=10, max_features=auto, max_depth=45, total=   7.2s\u001b[0m\n",
      "\u001b[34m[CV]  n_estimators=155, min_samples_split=10, max_features=auto, max_depth=45, total=   7.3s\u001b[0m\n",
      "\u001b[34m[Parallel(n_jobs=-1)]: Done 100 out of 100 | elapsed:   36.1s finished\u001b[0m\n",
      "\u001b[34m4.2059383845630745 {'n_estimators': 20, 'min_samples_split': 5, 'max_features': 'auto', 'max_depth': 1}\u001b[0m\n",
      "\u001b[34m4.498571585280908 {'n_estimators': 20, 'min_samples_split': 10, 'max_features': 'auto', 'max_depth': 1}\u001b[0m\n",
      "\u001b[34m4.40644813986636 {'n_estimators': 65, 'min_samples_split': 10, 'max_features': 'sqrt', 'max_depth': 23}\u001b[0m\n",
      "\u001b[34m3.7040446613646463 {'n_estimators': 20, 'min_samples_split': 10, 'max_features': 'auto', 'max_depth': 45}\u001b[0m\n",
      "\u001b[34m5.466386410300171 {'n_estimators': 155, 'min_samples_split': 5, 'max_features': 'sqrt', 'max_depth': 1}\u001b[0m\n",
      "\u001b[34m4.339036091758442 {'n_estimators': 200, 'min_samples_split': 5, 'max_features': 'sqrt', 'max_depth': 45}\u001b[0m\n",
      "\u001b[34m4.405656322081751 {'n_estimators': 155, 'min_samples_split': 5, 'max_features': 'sqrt', 'max_depth': 23}\u001b[0m\n",
      "\u001b[34m3.5042818286022075 {'n_estimators': 155, 'min_samples_split': 10, 'max_features': 'auto', 'max_depth': 45}\u001b[0m\n",
      "\u001b[34m5.4909848232323215 {'n_estimators': 110, 'min_samples_split': 5, 'max_features': 'sqrt', 'max_depth': 1}\u001b[0m\n",
      "\u001b[34m4.371629786185446 {'n_estimators': 110, 'min_samples_split': 10, 'max_features': 'sqrt', 'max_depth': 45}\u001b[0m\n",
      "\u001b[34mRMSE of lin_reg = 0.00\u001b[0m\n",
      "\u001b[34mRMSE of random forest = 1.38\u001b[0m\n",
      "\u001b[34mRMSE of decision tree = 0.00\u001b[0m\n",
      "\u001b[34mThe best model from the randomized search has an accuracy of 90.61 %\u001b[0m\n",
      "\u001b[34mThe best model from the randomized sear0ch has a RMSE of 2.99\u001b[0m\n",
      "\u001b[34m100SDW_EU_2008_RF\u001b[0m\n",
      "\u001b[34m2020-07-22 11:00:36,547 sagemaker-training-toolkit INFO     Reporting training SUCCESS\u001b[0m\n",
      "Training seconds: 147\n",
      "Billable seconds: 147\n"
     ]
    },
    {
     "data": {
      "text/plain": [
       "<sagemaker.sklearn.estimator.SKLearn at 0x7f010d030630>"
      ]
     },
     "execution_count": 21,
     "metadata": {},
     "output_type": "execute_result"
    }
   ],
   "source": [
    "from sagemaker.sklearn.estimator import SKLearn\n",
    "job_name='gp-100SDW-EIAR-2009-RF-2020-07-22-10-56-19-965'\n",
    "my_estimator = SKLearn.attach(job_name)\n",
    "my_estimator\n",
    "\n",
    "#aws sagemaker describe-training-job --training-job-name 'GENOME-PHENOME-2020-05-27-13-03-03'"
   ]
  },
  {
   "cell_type": "code",
   "execution_count": 22,
   "metadata": {},
   "outputs": [
    {
     "name": "stderr",
     "output_type": "stream",
     "text": [
      "Parameter image will be renamed to image_uri in SageMaker Python SDK v2.\n"
     ]
    }
   ],
   "source": [
    "estimator = estimators[0]\n",
    "# inference.py is the entry_point for when we deploy the model\n",
    "# Note how we do NOT specify source_dir again, this information is inherited from the estimator\n",
    "model = estimator.create_model(role=role, entry_point='inference.py')"
   ]
  },
  {
   "cell_type": "code",
   "execution_count": 23,
   "metadata": {},
   "outputs": [],
   "source": [
    "from sagemaker.multidatamodel import MultiDataModel\n",
    "\n",
    "# This is where our MME will read models from on S3.\n",
    "model_data_prefix = f's3://{BUCKET}/{DATA_PREFIX}/{MULTI_MODEL_ARTIFACTS}/'\n",
    "\n",
    "gp = MultiDataModel(name=MODEL_NAME,\n",
    "                     model_data_prefix=model_data_prefix,\n",
    "                     model=model,# passing our model\n",
    "                     sagemaker_session=sagemaker_session)"
   ]
  },
  {
   "cell_type": "code",
   "execution_count": 25,
   "metadata": {},
   "outputs": [
    {
     "name": "stdout",
     "output_type": "stream",
     "text": [
      "---------------!"
     ]
    }
   ],
   "source": [
    "predictor = gp.deploy(initial_instance_count=1,\n",
    "                       instance_type=ENDPOINT_INSTANCE_TYPE,\n",
    "                       endpoint_name=ENDPOINT_NAME)"
   ]
  },
  {
   "cell_type": "code",
   "execution_count": 27,
   "metadata": {},
   "outputs": [
    {
     "data": {
      "text/plain": [
       "[]"
      ]
     },
     "execution_count": 27,
     "metadata": {},
     "output_type": "execute_result"
    }
   ],
   "source": [
    "# No models visible!\n",
    "list(gp.list_models())"
   ]
  },
  {
   "cell_type": "code",
   "execution_count": 29,
   "metadata": {},
   "outputs": [],
   "source": [
    "for est in estimators:\n",
    "    artifact_path = est.latest_training_job.describe()['ModelArtifacts']['S3ModelArtifacts']\n",
    "    model_name = artifact_path.split('/')[-4]+'.tar.gz'\n",
    "    # This is copying over the model artifact to the S3 location for the MME.\n",
    "    gp.add_model(model_data_source=artifact_path, model_data_path=model_name)"
   ]
  },
  {
   "cell_type": "code",
   "execution_count": 31,
   "metadata": {},
   "outputs": [
    {
     "data": {
      "text/plain": [
       "['100SDW_EIAR_2009_RF.tar.gz']"
      ]
     },
     "execution_count": 31,
     "metadata": {},
     "output_type": "execute_result"
    }
   ],
   "source": [
    "list(gp.list_models())\n"
   ]
  },
  {
   "cell_type": "code",
   "execution_count": 33,
   "metadata": {},
   "outputs": [
    {
     "name": "stdout",
     "output_type": "stream",
     "text": [
      "$32.19, took 1,505 ms\n",
      "\n"
     ]
    }
   ],
   "source": [
    "\n",
    "start_time = time.time()\n",
    "out_arr = np.random.randint(low = 0, high = 1099, size = 4799)\n",
    "\n",
    "predicted_value = predictor.predict(out_arr, target_model='100SDW_EIAR_2009_RF.tar.gz')\n",
    "\n",
    "duration = time.time() - start_time\n",
    "print('${:,.2f}, took {:,d} ms\\n'.format(predicted_value[0], int(duration * 1000)))"
   ]
  },
  {
   "cell_type": "code",
   "execution_count": null,
   "metadata": {},
   "outputs": [],
   "source": []
  },
  {
   "cell_type": "code",
   "execution_count": null,
   "metadata": {},
   "outputs": [],
   "source": []
  },
  {
   "cell_type": "code",
   "execution_count": null,
   "metadata": {},
   "outputs": [],
   "source": []
  },
  {
   "cell_type": "code",
   "execution_count": null,
   "metadata": {},
   "outputs": [],
   "source": []
  },
  {
   "cell_type": "code",
   "execution_count": null,
   "metadata": {},
   "outputs": [],
   "source": []
  },
  {
   "cell_type": "code",
   "execution_count": null,
   "metadata": {},
   "outputs": [],
   "source": []
  },
  {
   "cell_type": "code",
   "execution_count": null,
   "metadata": {},
   "outputs": [],
   "source": []
  },
  {
   "cell_type": "code",
   "execution_count": null,
   "metadata": {},
   "outputs": [],
   "source": []
  },
  {
   "cell_type": "code",
   "execution_count": null,
   "metadata": {
    "scrolled": true
   },
   "outputs": [],
   "source": []
  },
  {
   "cell_type": "code",
   "execution_count": null,
   "metadata": {},
   "outputs": [],
   "source": []
  },
  {
   "cell_type": "code",
   "execution_count": null,
   "metadata": {},
   "outputs": [],
   "source": []
  },
  {
   "cell_type": "code",
   "execution_count": null,
   "metadata": {},
   "outputs": [],
   "source": []
  },
  {
   "cell_type": "code",
   "execution_count": null,
   "metadata": {},
   "outputs": [],
   "source": []
  },
  {
   "cell_type": "code",
   "execution_count": null,
   "metadata": {},
   "outputs": [],
   "source": []
  },
  {
   "cell_type": "code",
   "execution_count": null,
   "metadata": {},
   "outputs": [],
   "source": []
  },
  {
   "cell_type": "code",
   "execution_count": null,
   "metadata": {},
   "outputs": [],
   "source": []
  },
  {
   "cell_type": "code",
   "execution_count": null,
   "metadata": {},
   "outputs": [],
   "source": []
  },
  {
   "cell_type": "code",
   "execution_count": null,
   "metadata": {},
   "outputs": [],
   "source": []
  },
  {
   "cell_type": "code",
   "execution_count": null,
   "metadata": {},
   "outputs": [],
   "source": []
  },
  {
   "cell_type": "code",
   "execution_count": null,
   "metadata": {},
   "outputs": [],
   "source": []
  },
  {
   "cell_type": "code",
   "execution_count": null,
   "metadata": {},
   "outputs": [],
   "source": []
  },
  {
   "cell_type": "code",
   "execution_count": null,
   "metadata": {},
   "outputs": [],
   "source": []
  },
  {
   "cell_type": "code",
   "execution_count": null,
   "metadata": {},
   "outputs": [],
   "source": []
  },
  {
   "cell_type": "code",
   "execution_count": null,
   "metadata": {},
   "outputs": [],
   "source": []
  }
 ],
 "metadata": {
  "kernelspec": {
   "display_name": "Python 3",
   "language": "python",
   "name": "python3"
  },
  "language_info": {
   "codemirror_mode": {
    "name": "ipython",
    "version": 3
   },
   "file_extension": ".py",
   "mimetype": "text/x-python",
   "name": "python",
   "nbconvert_exporter": "python",
   "pygments_lexer": "ipython3",
   "version": "3.7.6"
  }
 },
 "nbformat": 4,
 "nbformat_minor": 4
}
